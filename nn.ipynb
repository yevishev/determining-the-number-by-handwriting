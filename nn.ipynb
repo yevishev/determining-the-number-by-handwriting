{
 "cells": [
  {
   "cell_type": "code",
   "execution_count": 2,
   "metadata": {},
   "outputs": [],
   "source": [
    "import numpy as np\n",
    "import scipy as sc"
   ]
  },
  {
   "cell_type": "code",
   "execution_count": null,
   "metadata": {},
   "outputs": [],
   "source": [
    "class neuralNetwork:\n",
    "    #init nn\n",
    "    def __init__(self, inputnodes, hiddennodes, outputnodes, learningrate):\n",
    "        #кол-во узлов в входном слое\n",
    "        self.inodes = inputnodes\n",
    "        #кол-во узлов в скрытом слое\n",
    "        self.hnodes = hiddennodes\n",
    "        #кол-во узлов в выходном слое\n",
    "        self.onodes = outputnodes\n",
    "        \n",
    "        #весовые коэф-ты от входного слоя к скрытому\n",
    "        self.wih = (np.random.rand(self.hnodes, self.inodes) - 0.5)\n",
    "        #весовые коэф-ты от скрытого слоя к выходному\n",
    "        self.who = (np.random.rand(self.onodes, self.hnodes) - 0.5)\n",
    "\n",
    "        #коэф. обучения сети\n",
    "        self.lr = learningrate\n",
    "        # запись сигмоиды в качестве анонимной функции\n",
    "        self.activation_func = lambda x: sc.special.expit(x)\n",
    "        pass\n",
    "\n",
    "    # train nn\n",
    "    def train(self, inputs_list, target_list):\n",
    "        inputs = np.array(inputs_list, ndmin=2).T\n",
    "        targets = np.array(target_list, ndmin=2).T\n",
    "\n",
    "        hidden_inputs = np.dot(self.wih, inputs)\n",
    "        hidden_outputs = self.activision_func(hidden_inputs)\n",
    "\n",
    "        final_inputs = np.dot(self.who, hidden_outputs)\n",
    "        final_outputs = self.activation_func(final_inputs)\n",
    "\n",
    "        output_errors = targets - final_outputs\n",
    "        hidden_errors = np.dot(self.who.T, output_errors)\n",
    "        self.who += self.lr * np.dot((output_errors * final_outputs * (1.0 - final_outputs)), np.transpose(hidden_outputs))\n",
    "        self.whi += self.lr * np.dot((hidden_errors * hidden_outputs * (1 - hidden_outputs)), np.transpose(inputs))\n",
    "        pass\n",
    "\n",
    "    #query nn\n",
    "    def query(self, inputs_list):\n",
    "        #представление массива (одномерной матрицы) входных сигналов в вектор (т.е. транспонирование матрицы 1х3 на 3х1)\n",
    "        inputs = np.array(inputs_list, ndmin = 2).T\n",
    "        #вычисление сигналов, приходящих на скрытый слой до применение сигмоиды\n",
    "        hidden_inputs = np.dot(self.wih, inputs)\n",
    "        #применение сигмоиды\n",
    "        hidden_outputs = self.activation_func(hidden_inputs)\n",
    "        #вычисление сигналов, приходящих на выходной слой до применение сигмоиды\n",
    "        final_inputs = np.dot(self.who, hidden_outputs)\n",
    "        #применение сигмоиды\n",
    "        final_outputs = self.activation_func(final_inputs)\n",
    "        return final_outputs\n",
    "    \n",
    "input_nodes = 3;\n",
    "hidden_nodes = 3;\n",
    "output_nodes = 3;\n",
    "learning_rate = 0.3;\n",
    "n = neuralNetwork(input_nodes, hidden_nodes, output_nodes, learning_rate)\n",
    "\n"
   ]
  },
  {
   "cell_type": "code",
   "execution_count": null,
   "metadata": {},
   "outputs": [],
   "source": [
    "input_nodes = 3;\n",
    "hidden_nodes = 3;\n",
    "output_nodes = 3;\n",
    "learning_rate = 0.3;\n",
    "n = neuralNetwork(input_nodes, hidden_nodes, output_nodes, learning_rate)"
   ]
  },
  {
   "cell_type": "code",
   "execution_count": null,
   "metadata": {},
   "outputs": [],
   "source": [
    "#открытие файла. \"r\" - открыть только для чтения\n",
    "#происходит создание дескриптора \n",
    "data_file = open(\"dataset/mnist_train.csv\", \"r\")\n",
    "\n",
    "data_list = data_file.readlines()\n",
    "data_file.close()"
   ]
  }
 ],
 "metadata": {
  "kernelspec": {
   "display_name": "Python 3",
   "language": "python",
   "name": "python3"
  },
  "language_info": {
   "codemirror_mode": {
    "name": "ipython",
    "version": 3
   },
   "file_extension": ".py",
   "mimetype": "text/x-python",
   "name": "python",
   "nbconvert_exporter": "python",
   "pygments_lexer": "ipython3",
   "version": "3.10.9"
  },
  "orig_nbformat": 4,
  "vscode": {
   "interpreter": {
    "hash": "0d8f4935e9c500e21f8d83772cf92e5c4375eaff500a08ebfe5ba99e66a0e202"
   }
  }
 },
 "nbformat": 4,
 "nbformat_minor": 2
}
