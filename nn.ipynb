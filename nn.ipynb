{
 "cells": [
  {
   "cell_type": "code",
   "execution_count": 130,
   "metadata": {},
   "outputs": [],
   "source": [
    "import numpy as np\n",
    "import scipy as sc\n",
    "import matplotlib.pyplot as mp"
   ]
  },
  {
   "cell_type": "code",
   "execution_count": 131,
   "metadata": {},
   "outputs": [],
   "source": [
    "class neuralNetwork:\n",
    "\n",
    "    def __init__(self, inputnodes, hiddennodes, outputnodes, learningrate):\n",
    "        #кол-во узлов в входном слое\n",
    "        self.inodes = inputnodes\n",
    "        #кол-во узлов в скрытом слое\n",
    "        self.hnodes = hiddennodes\n",
    "        #кол-во узлов в выходном слое\n",
    "        self.onodes = outputnodes\n",
    "        \n",
    "        #весовые коэф-ты от входного слоя к скрытому\n",
    "        self.wih = (np.random.rand(self.hnodes, self.inodes) - 0.5)\n",
    "        #весовые коэф-ты от скрытого слоя к выходному\n",
    "        self.who = (np.random.rand(self.onodes, self.hnodes) - 0.5)\n",
    "\n",
    "        #коэф. обучения сети\n",
    "        self.lr = learningrate\n",
    "        #запись сигмоиды в качестве анонимной функции\n",
    "        self.activation_func = lambda x: sc.special.expit(x)\n",
    "        pass\n",
    "\n",
    "    def train(self, inputs_list, target_list):\n",
    "        #входные сигналы в виде массива с последующим транспонированием (чтобы можно было производить расчеты)\n",
    "        inputs = np.array(inputs_list, ndmin=2).T\n",
    "        #целевые значения в виде массива с последующим транспонированием (чтобы можно было производить расчеты)\n",
    "        #нужны для расчета обратного распространения ошибки\n",
    "        targets = np.array(target_list, ndmin=2).T\n",
    "        #произведение матрицы весовых коэф. между входным и скрытым слоями с входными сигналами\n",
    "        hidden_inputs = np.dot(self.wih, inputs)\n",
    "        #использование функции активации к сигналам скрытого слоя, для приведения к диапазону от 0.1 до 0.99\n",
    "        hidden_outputs = self.activation_func(hidden_inputs)\n",
    "        #произведение матрицы весовых коэф. между скрытым и выходными слоями с сигналами скрытого слоя\n",
    "        final_inputs = np.dot(self.who, hidden_outputs)\n",
    "        #использование функции активации к сигналам выходного слоя, для приведения к диапазону от 0.1 до 0.99\n",
    "        final_outputs = self.activation_func(final_inputs)\n",
    "        #расчет ошибки (целевое значение - выходные сигналы)\n",
    "        output_errors = targets - final_outputs\n",
    "        #расчет ошибок для каждого узла скрытого слоя\n",
    "        #путем произведение транспонированной матрицы весовых коэф. между скрытым и выходным слоями с выходной ошибкой\n",
    "        hidden_errors = np.dot(self.who.T, output_errors)\n",
    "        #простановка новых весовых коэф. между скрытым и выходным слоями\n",
    "        #с использованием расчитанной ошибки\n",
    "        self.who += self.lr * np.dot((output_errors * final_outputs * (1.0 - final_outputs)), np.transpose(hidden_outputs))\n",
    "        #простановка новых весовых коэф. между скрытым и входным слоями\n",
    "        #с использованием расчитанной ошибки \n",
    "        self.wih += self.lr * np.dot((hidden_errors * hidden_outputs * (1 - hidden_outputs)), np.transpose(inputs))\n",
    "        pass\n",
    "\n",
    "    def query(self, inputs_list):\n",
    "        #представление массива (одномерной матрицы) входных сигналов в вектор (т.е. транспонирование матрицы 1х3 на 3х1)\n",
    "        inputs = np.array(inputs_list, ndmin = 2).T\n",
    "        #вычисление сигналов, приходящих на скрытый слой до применение сигмоиды\n",
    "        hidden_inputs = np.dot(self.wih, inputs)\n",
    "        #применение сигмоиды\n",
    "        hidden_outputs = self.activation_func(hidden_inputs)\n",
    "        #вычисление сигналов, приходящих на выходной слой до применение сигмоиды\n",
    "        final_inputs = np.dot(self.who, hidden_outputs)\n",
    "        #применение сигмоиды\n",
    "        final_outputs = self.activation_func(final_inputs)\n",
    "        return final_outputs"
   ]
  },
  {
   "cell_type": "code",
   "execution_count": 132,
   "metadata": {},
   "outputs": [
    {
     "name": "stdout",
     "output_type": "stream",
     "text": [
      "[[0.1, 0.9514], [0.2, 0.95], [0.30000000000000004, 0.9452], [0.4, 0.9424], [0.5, 0.9281], [0.6, 0.8996], [0.7000000000000001, 0.9015], [0.8, 0.8583], [0.9, 0.8482]]\n"
     ]
    }
   ],
   "source": [
    "#кол-во узлов в входном слое. в узел передается значение оттенка черного в пикселе\n",
    "#кол-во узлов рассчитывается из произведения ширины и высоты картинки 28*28\n",
    "input_nodes = 784;\n",
    "hidden_nodes = 100;\n",
    "#кол-во узлов в выходном слое. равно кол-ву определяемых цифр\n",
    "output_nodes = 10;\n",
    "effectivity = []\n",
    "for lr in np.arange(0.1, 1, 0.1):\n",
    "    learning_rate = lr\n",
    "    n = neuralNetwork(input_nodes, hidden_nodes, output_nodes, learning_rate)\n",
    "    #открытие файла. \"r\" - открыть только для чтения\n",
    "    #в data_file записывается указатель файл. следующие обращения к файлу будут через данный указатель \n",
    "    data_file = open(\"dataset/mnist_train.csv\", \"r\")\n",
    "    #чтение всех строк в файле\n",
    "    data_list = data_file.readlines()\n",
    "    #закрытие файла во избежание конкурентности (одновременное использование одного файла несколькими командами)\n",
    "    data_file.close()\n",
    "    epochs = 1\n",
    "    for e in range(epochs):\n",
    "        for record in data_list:\n",
    "            all_values = record.split(',')\n",
    "            inputs = (np.asfarray(all_values[1:]) / 255.0 * 0.99) + 0.01\n",
    "            targets = np.zeros(output_nodes) + 0.01\n",
    "            targets[int(all_values[0])] = 0.99\n",
    "            n.train(inputs, targets)\n",
    "            pass\n",
    "        pass\n",
    "    test_dataset_file = open(\"dataset/mnist_test.csv\", \"r\")\n",
    "    test_dataset_list = test_dataset_file.readlines()\n",
    "    test_dataset_file.close()\n",
    "    scorecard = []\n",
    "\n",
    "    for record in test_dataset_list:\n",
    "        all_values = record.split(',')\n",
    "        correct_value = int(all_values[0])\n",
    "        inputs = (np.asfarray(all_values[1:])/255.0 * 0.99) + 0.01\n",
    "        outputs = n.query(inputs)\n",
    "        label = np.argmax(outputs)\n",
    "        if(label == correct_value):\n",
    "            scorecard.append(1)\n",
    "            pass\n",
    "        else:\n",
    "            scorecard.append(0)\n",
    "            pass\n",
    "        pass\n",
    "    scorecard_array = np.asarray(scorecard)\n",
    "    #записываю в массив пару [коэф. скорости обучения, эффективность обучения] для выбора оптимального коэф-а обучения\n",
    "    effectivity.append([lr, sum(scorecard)/len(scorecard)])\n",
    "print(effectivity)"
   ]
  },
  {
   "cell_type": "code",
   "execution_count": 133,
   "metadata": {},
   "outputs": [
    {
     "data": {
      "image/png": "[encoded data removed]",
      "text/plain": [
       "<Figure size 640x480 with 1 Axes>"
      ]
     },
     "metadata": {},
     "output_type": "display_data"
    }
   ],
   "source": [
    "data_for_graphic = [[],[]];\n",
    "for val in effectivity:\n",
    "    data_for_graphic[0].append(val[0])\n",
    "    data_for_graphic[1].append(val[1])\n",
    "mp.figure()\n",
    "mp.plot(data_for_graphic[0], data_for_graphic[1])\n",
    "mp.xlabel(\"learning rate\")\n",
    "mp.ylabel(\"effectivity\")\n",
    "mp.show()"
   ]
  }
 ],
 "metadata": {
  "kernelspec": {
   "display_name": "Python 3",
   "language": "python",
   "name": "python3"
  },
  "language_info": {
   "codemirror_mode": {
    "name": "ipython",
    "version": 3
   },
   "file_extension": ".py",
   "mimetype": "text/x-python",
   "name": "python",
   "nbconvert_exporter": "python",
   "pygments_lexer": "ipython3",
   "version": "3.10.9"
  },
  "orig_nbformat": 4,
  "vscode": {
   "interpreter": {
    "hash": "0d8f4935e9c500e21f8d83772cf92e5c4375eaff500a08ebfe5ba99e66a0e202"
   }
  }
 },
 "nbformat": 4,
 "nbformat_minor": 2
}
